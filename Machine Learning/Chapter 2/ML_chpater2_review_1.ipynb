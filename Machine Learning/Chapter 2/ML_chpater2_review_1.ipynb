{
 "cells": [
  {
   "cell_type": "code",
   "execution_count": 1,
   "id": "652d5dbc",
   "metadata": {},
   "outputs": [],
   "source": [
    "import pandas as pd\n",
    "import numpy as np\n",
    "import matplotlib.pyplot as plt"
   ]
  },
  {
   "cell_type": "code",
   "execution_count": 2,
   "id": "7ca474b1",
   "metadata": {},
   "outputs": [],
   "source": [
    "from sklearn.preprocessing import StandardScaler, FunctionTransformer,MinMaxScaler"
   ]
  },
  {
   "cell_type": "code",
   "execution_count": 3,
   "id": "9871b98a",
   "metadata": {},
   "outputs": [],
   "source": [
    "from sklearn.model_selection import train_test_split, cross_val_score,GridSearchCV"
   ]
  },
  {
   "cell_type": "code",
   "execution_count": 4,
   "id": "e4bb3e48",
   "metadata": {},
   "outputs": [],
   "source": [
    "from sklearn.preprocessing import OneHotEncoder"
   ]
  },
  {
   "cell_type": "code",
   "execution_count": 5,
   "id": "7e092176",
   "metadata": {},
   "outputs": [],
   "source": [
    "from sklearn.impute import SimpleImputer"
   ]
  },
  {
   "cell_type": "code",
   "execution_count": 6,
   "id": "1ae890db",
   "metadata": {},
   "outputs": [],
   "source": [
    "from sklearn.compose import ColumnTransformer"
   ]
  },
  {
   "cell_type": "code",
   "execution_count": 7,
   "id": "fdd14c37",
   "metadata": {},
   "outputs": [],
   "source": [
    "from sklearn.pipeline import Pipeline, make_pipeline"
   ]
  },
  {
   "cell_type": "code",
   "execution_count": 8,
   "id": "d4b91cc2",
   "metadata": {},
   "outputs": [],
   "source": [
    "file_path = '/Users/xwyang/Desktop/data/housing.csv'"
   ]
  },
  {
   "cell_type": "code",
   "execution_count": 9,
   "id": "ee0450fe",
   "metadata": {},
   "outputs": [
    {
     "data": {
      "text/html": [
       "<div>\n",
       "<style scoped>\n",
       "    .dataframe tbody tr th:only-of-type {\n",
       "        vertical-align: middle;\n",
       "    }\n",
       "\n",
       "    .dataframe tbody tr th {\n",
       "        vertical-align: top;\n",
       "    }\n",
       "\n",
       "    .dataframe thead th {\n",
       "        text-align: right;\n",
       "    }\n",
       "</style>\n",
       "<table border=\"1\" class=\"dataframe\">\n",
       "  <thead>\n",
       "    <tr style=\"text-align: right;\">\n",
       "      <th></th>\n",
       "      <th>longitude</th>\n",
       "      <th>latitude</th>\n",
       "      <th>housing_median_age</th>\n",
       "      <th>total_rooms</th>\n",
       "      <th>total_bedrooms</th>\n",
       "      <th>population</th>\n",
       "      <th>households</th>\n",
       "      <th>median_income</th>\n",
       "      <th>median_house_value</th>\n",
       "      <th>ocean_proximity</th>\n",
       "    </tr>\n",
       "  </thead>\n",
       "  <tbody>\n",
       "    <tr>\n",
       "      <th>0</th>\n",
       "      <td>-122.23</td>\n",
       "      <td>37.88</td>\n",
       "      <td>41.0</td>\n",
       "      <td>880.0</td>\n",
       "      <td>129.0</td>\n",
       "      <td>322.0</td>\n",
       "      <td>126.0</td>\n",
       "      <td>8.3252</td>\n",
       "      <td>452600.0</td>\n",
       "      <td>NEAR BAY</td>\n",
       "    </tr>\n",
       "    <tr>\n",
       "      <th>1</th>\n",
       "      <td>-122.22</td>\n",
       "      <td>37.86</td>\n",
       "      <td>21.0</td>\n",
       "      <td>7099.0</td>\n",
       "      <td>1106.0</td>\n",
       "      <td>2401.0</td>\n",
       "      <td>1138.0</td>\n",
       "      <td>8.3014</td>\n",
       "      <td>358500.0</td>\n",
       "      <td>NEAR BAY</td>\n",
       "    </tr>\n",
       "    <tr>\n",
       "      <th>2</th>\n",
       "      <td>-122.24</td>\n",
       "      <td>37.85</td>\n",
       "      <td>52.0</td>\n",
       "      <td>1467.0</td>\n",
       "      <td>190.0</td>\n",
       "      <td>496.0</td>\n",
       "      <td>177.0</td>\n",
       "      <td>7.2574</td>\n",
       "      <td>352100.0</td>\n",
       "      <td>NEAR BAY</td>\n",
       "    </tr>\n",
       "    <tr>\n",
       "      <th>3</th>\n",
       "      <td>-122.25</td>\n",
       "      <td>37.85</td>\n",
       "      <td>52.0</td>\n",
       "      <td>1274.0</td>\n",
       "      <td>235.0</td>\n",
       "      <td>558.0</td>\n",
       "      <td>219.0</td>\n",
       "      <td>5.6431</td>\n",
       "      <td>341300.0</td>\n",
       "      <td>NEAR BAY</td>\n",
       "    </tr>\n",
       "    <tr>\n",
       "      <th>4</th>\n",
       "      <td>-122.25</td>\n",
       "      <td>37.85</td>\n",
       "      <td>52.0</td>\n",
       "      <td>1627.0</td>\n",
       "      <td>280.0</td>\n",
       "      <td>565.0</td>\n",
       "      <td>259.0</td>\n",
       "      <td>3.8462</td>\n",
       "      <td>342200.0</td>\n",
       "      <td>NEAR BAY</td>\n",
       "    </tr>\n",
       "  </tbody>\n",
       "</table>\n",
       "</div>"
      ],
      "text/plain": [
       "   longitude  latitude  housing_median_age  total_rooms  total_bedrooms  \\\n",
       "0    -122.23     37.88                41.0        880.0           129.0   \n",
       "1    -122.22     37.86                21.0       7099.0          1106.0   \n",
       "2    -122.24     37.85                52.0       1467.0           190.0   \n",
       "3    -122.25     37.85                52.0       1274.0           235.0   \n",
       "4    -122.25     37.85                52.0       1627.0           280.0   \n",
       "\n",
       "   population  households  median_income  median_house_value ocean_proximity  \n",
       "0       322.0       126.0         8.3252            452600.0        NEAR BAY  \n",
       "1      2401.0      1138.0         8.3014            358500.0        NEAR BAY  \n",
       "2       496.0       177.0         7.2574            352100.0        NEAR BAY  \n",
       "3       558.0       219.0         5.6431            341300.0        NEAR BAY  \n",
       "4       565.0       259.0         3.8462            342200.0        NEAR BAY  "
      ]
     },
     "execution_count": 9,
     "metadata": {},
     "output_type": "execute_result"
    }
   ],
   "source": [
    "df = pd.read_csv(file_path)\n",
    "df.head()"
   ]
  },
  {
   "cell_type": "code",
   "execution_count": 10,
   "id": "5bbc6067",
   "metadata": {},
   "outputs": [
    {
     "data": {
      "text/html": [
       "<div>\n",
       "<style scoped>\n",
       "    .dataframe tbody tr th:only-of-type {\n",
       "        vertical-align: middle;\n",
       "    }\n",
       "\n",
       "    .dataframe tbody tr th {\n",
       "        vertical-align: top;\n",
       "    }\n",
       "\n",
       "    .dataframe thead th {\n",
       "        text-align: right;\n",
       "    }\n",
       "</style>\n",
       "<table border=\"1\" class=\"dataframe\">\n",
       "  <thead>\n",
       "    <tr style=\"text-align: right;\">\n",
       "      <th></th>\n",
       "      <th>longitude</th>\n",
       "      <th>latitude</th>\n",
       "      <th>housing_median_age</th>\n",
       "      <th>total_rooms</th>\n",
       "      <th>total_bedrooms</th>\n",
       "      <th>population</th>\n",
       "      <th>households</th>\n",
       "      <th>median_income</th>\n",
       "      <th>median_house_value</th>\n",
       "    </tr>\n",
       "  </thead>\n",
       "  <tbody>\n",
       "    <tr>\n",
       "      <th>0</th>\n",
       "      <td>-122.23</td>\n",
       "      <td>37.88</td>\n",
       "      <td>41.0</td>\n",
       "      <td>880.0</td>\n",
       "      <td>129.0</td>\n",
       "      <td>322.0</td>\n",
       "      <td>126.0</td>\n",
       "      <td>8.3252</td>\n",
       "      <td>452600.0</td>\n",
       "    </tr>\n",
       "    <tr>\n",
       "      <th>1</th>\n",
       "      <td>-122.22</td>\n",
       "      <td>37.86</td>\n",
       "      <td>21.0</td>\n",
       "      <td>7099.0</td>\n",
       "      <td>1106.0</td>\n",
       "      <td>2401.0</td>\n",
       "      <td>1138.0</td>\n",
       "      <td>8.3014</td>\n",
       "      <td>358500.0</td>\n",
       "    </tr>\n",
       "    <tr>\n",
       "      <th>2</th>\n",
       "      <td>-122.24</td>\n",
       "      <td>37.85</td>\n",
       "      <td>52.0</td>\n",
       "      <td>1467.0</td>\n",
       "      <td>190.0</td>\n",
       "      <td>496.0</td>\n",
       "      <td>177.0</td>\n",
       "      <td>7.2574</td>\n",
       "      <td>352100.0</td>\n",
       "    </tr>\n",
       "    <tr>\n",
       "      <th>3</th>\n",
       "      <td>-122.25</td>\n",
       "      <td>37.85</td>\n",
       "      <td>52.0</td>\n",
       "      <td>1274.0</td>\n",
       "      <td>235.0</td>\n",
       "      <td>558.0</td>\n",
       "      <td>219.0</td>\n",
       "      <td>5.6431</td>\n",
       "      <td>341300.0</td>\n",
       "    </tr>\n",
       "    <tr>\n",
       "      <th>4</th>\n",
       "      <td>-122.25</td>\n",
       "      <td>37.85</td>\n",
       "      <td>52.0</td>\n",
       "      <td>1627.0</td>\n",
       "      <td>280.0</td>\n",
       "      <td>565.0</td>\n",
       "      <td>259.0</td>\n",
       "      <td>3.8462</td>\n",
       "      <td>342200.0</td>\n",
       "    </tr>\n",
       "  </tbody>\n",
       "</table>\n",
       "</div>"
      ],
      "text/plain": [
       "   longitude  latitude  housing_median_age  total_rooms  total_bedrooms  \\\n",
       "0    -122.23     37.88                41.0        880.0           129.0   \n",
       "1    -122.22     37.86                21.0       7099.0          1106.0   \n",
       "2    -122.24     37.85                52.0       1467.0           190.0   \n",
       "3    -122.25     37.85                52.0       1274.0           235.0   \n",
       "4    -122.25     37.85                52.0       1627.0           280.0   \n",
       "\n",
       "   population  households  median_income  median_house_value  \n",
       "0       322.0       126.0         8.3252            452600.0  \n",
       "1      2401.0      1138.0         8.3014            358500.0  \n",
       "2       496.0       177.0         7.2574            352100.0  \n",
       "3       558.0       219.0         5.6431            341300.0  \n",
       "4       565.0       259.0         3.8462            342200.0  "
      ]
     },
     "execution_count": 10,
     "metadata": {},
     "output_type": "execute_result"
    }
   ],
   "source": [
    "housing_num = df.select_dtypes(include='number')\n",
    "housing_num.head()"
   ]
  },
  {
   "cell_type": "code",
   "execution_count": 11,
   "id": "6e94e899",
   "metadata": {},
   "outputs": [],
   "source": [
    "from sklearn.compose import make_column_selector,make_column_transformer"
   ]
  },
  {
   "cell_type": "code",
   "execution_count": 13,
   "id": "0834692c",
   "metadata": {},
   "outputs": [],
   "source": [
    "num_pipeline = Pipeline([('impute',SimpleImputer(strategy='median')),('std',StandardScaler())])"
   ]
  },
  {
   "cell_type": "code",
   "execution_count": 14,
   "id": "cd190651",
   "metadata": {},
   "outputs": [],
   "source": [
    "cat_pipeline = make_pipeline(SimpleImputer(strategy='most_frequent'),OneHotEncoder(handle_unknown='ignore'))"
   ]
  },
  {
   "cell_type": "code",
   "execution_count": 15,
   "id": "683f939e",
   "metadata": {},
   "outputs": [],
   "source": [
    "processing = ColumnTransformer([\n",
    "    ('num',num_pipeline,make_column_selector(dtype_include='number')),\n",
    "    ('cat',cat_pipeline,make_column_selector(dtype_include='object'))\n",
    "])"
   ]
  },
  {
   "cell_type": "code",
   "execution_count": 16,
   "id": "50d2c82d",
   "metadata": {},
   "outputs": [],
   "source": [
    "housing_prepared = processing.fit_transform(df)"
   ]
  },
  {
   "cell_type": "code",
   "execution_count": 19,
   "id": "11207bfc",
   "metadata": {},
   "outputs": [
    {
     "data": {
      "text/plain": [
       "array([[-1.32783522,  1.05254828,  0.98214266, -0.8048191 , -0.97247648,\n",
       "        -0.9744286 , -0.97703285,  2.34476576,  2.12963148,  0.        ,\n",
       "         0.        ,  0.        ,  1.        ,  0.        ]])"
      ]
     },
     "execution_count": 19,
     "metadata": {},
     "output_type": "execute_result"
    }
   ],
   "source": [
    "housing_prepared[:1]"
   ]
  },
  {
   "cell_type": "code",
   "execution_count": 20,
   "id": "d8fdee5d",
   "metadata": {},
   "outputs": [],
   "source": [
    "process = make_column_transformer(\n",
    "    (num_pipeline,make_column_selector(dtype_include='number')),\n",
    "    (cat_pipeline,make_column_selector(dtype_include='object'))\n",
    ")"
   ]
  },
  {
   "cell_type": "code",
   "execution_count": 22,
   "id": "f0bcf510",
   "metadata": {},
   "outputs": [
    {
     "data": {
      "text/plain": [
       "array([[-1.32783522,  1.05254828,  0.98214266, -0.8048191 , -0.97247648,\n",
       "        -0.9744286 , -0.97703285,  2.34476576,  2.12963148,  0.        ,\n",
       "         0.        ,  0.        ,  1.        ,  0.        ]])"
      ]
     },
     "execution_count": 22,
     "metadata": {},
     "output_type": "execute_result"
    }
   ],
   "source": [
    "process.fit_transform(df)[:1]"
   ]
  },
  {
   "cell_type": "code",
   "execution_count": 25,
   "id": "e427a712",
   "metadata": {},
   "outputs": [
    {
     "data": {
      "text/plain": [
       "<1H OCEAN  INLAND  ISLAND  NEAR BAY  NEAR OCEAN\n",
       "1          0       0       0         0             9136\n",
       "0          1       0       0         0             6551\n",
       "           0       0       0         1             2658\n",
       "                           1         0             2290\n",
       "                   1       0         0                5\n",
       "Name: count, dtype: int64"
      ]
     },
     "execution_count": 25,
     "metadata": {},
     "output_type": "execute_result"
    }
   ],
   "source": [
    "pd.get_dummies(df['ocean_proximity'],dtype='int').value_counts()"
   ]
  },
  {
   "cell_type": "code",
   "execution_count": 26,
   "id": "8e9cd9a8",
   "metadata": {},
   "outputs": [
    {
     "data": {
      "text/plain": [
       "ocean_proximity\n",
       "<1H OCEAN     9136\n",
       "INLAND        6551\n",
       "NEAR OCEAN    2658\n",
       "NEAR BAY      2290\n",
       "ISLAND           5\n",
       "Name: count, dtype: int64"
      ]
     },
     "execution_count": 26,
     "metadata": {},
     "output_type": "execute_result"
    }
   ],
   "source": [
    "df['ocean_proximity'].value_counts()"
   ]
  },
  {
   "cell_type": "markdown",
   "id": "468cfe19",
   "metadata": {},
   "source": [
    " you can definitely use `Pipeline` again to create a logical flow that combines your `ColumnTransformer` (which handles preprocessing) with a machine learning model like `LinearRegression`. This is a common practice in machine learning workflows, where you chain together preprocessing steps and a model into a single pipeline.\n",
    "\n",
    "Here’s how you can do it:\n",
    "\n",
    "```python\n",
    "from sklearn.pipeline import Pipeline,make_pipeline\n",
    "from sklearn.compose import ColumnTransformer,make_column_selector,make_column_transformer\n",
    "from sklearn.impute import SimpleImputer\n",
    "from sklearn.preprocessing import StandardScaler, OneHotEncoder\n",
    "from sklearn.linear_model import LinearRegression\n",
    "from sklearn.model_selection import train_test_split\n",
    "--------------------------------------------------------------------------------------------------------\n",
    "# Define the numerical pipeline\n",
    "num_pipeline = Pipeline([\n",
    "    ('impute', SimpleImputer(strategy='median')),\n",
    "    ('std', StandardScaler())\n",
    "])\n",
    "\n",
    "#(or usiing make_pipeline to define the numerical pipeline, you don't care about naming the transformers)\n",
    "\n",
    "num_pipe = make_pipeline(\n",
    "    (SimpleImputer(strategy='median'), StandardScaler())\n",
    "\n",
    "# Define the categorical pipeline\n",
    "cat_pipeline = Pipeline([\n",
    "    ('impute', SimpleImputer(strategy='most_frequent')),\n",
    "    ('onehot', OneHotEncoder(handle_unknown='ignore'))\n",
    "])\n",
    "-----------------------------------------------------------------------------------------------------\n",
    "# Combine the numerical and categorical pipelines using ColumnTransformer\n",
    "processing = ColumnTransformer([\n",
    "    ('num', num_pipeline, make_column_selector(dtype_include='number')),\n",
    "    ('cat', cat_pipeline, make_column_selector(dtype_include='object'))\n",
    "])\n",
    "\n",
    "\n",
    "#(or Combine the numerical and categorical pipelines using make_column_transformer,This way, you do not care about namiing the transformers.)\n",
    "processing_new = make_column_transformer(\n",
    "    (num_pipeline, make_column_selector(dtype_include='number')),\n",
    "    (cat_pipeline, make_column_selector(dtype_include='object'))\n",
    ") \n",
    "\n",
    "----------------------------------------------------------------------------------------------------\n",
    "# Now we're ready to apply with ColumnTransformer to the housing data:\n",
    " housing_prepared = processing.fit_transform(housing)\n",
    "# housing_prepared is a NumPy array, but you can get the column names using this:\n",
    " processing.get_feature_names_out()\n",
    " df_housing_prepared = pd.DataFrame(housing_prepared,column=processing.get_feature_names_out(),\n",
    "                                    index=housing.index)\n",
    "---------------------------------------------------------------------------------------------------\n",
    "# Create the final pipeline that includes preprocessing and the model\n",
    "final_pipeline = Pipeline([\n",
    "    ('preprocessing', processing),\n",
    "    ('regressor', LinearRegression())\n",
    "])\n",
    "\n",
    "# Example usage:\n",
    "# Assuming you have a DataFrame `X` and target `y`\n",
    "X_train, X_test, y_train, y_test = train_test_split(X, y, test_size=0.2, random_state=42)\n",
    "\n",
    "# Fit the pipeline\n",
    "final_pipeline.fit(X_train, y_train)\n",
    "\n",
    "# Make predictions\n",
    "y_pred = final_pipeline.predict(X_test)\n",
    "```\n",
    "------------------------------------------------------------------------------------------------------\n",
    "### Explanation:\n",
    "1. **Numerical Pipeline (`num_pipeline`)**:\n",
    "   - `SimpleImputer` fills missing values with the median.\n",
    "   - `StandardScaler` standardizes the numerical features.\n",
    "\n",
    "2. **Categorical Pipeline (`cat_pipeline`)**:\n",
    "   - `SimpleImputer` fills missing values with the most frequent value.\n",
    "   - `OneHotEncoder` converts categorical variables into one-hot encoded vectors.\n",
    "\n",
    "3. **ColumnTransformer (`processing`)**:\n",
    "   - Applies the numerical pipeline to numerical columns and the categorical pipeline to categorical columns.\n",
    "\n",
    "4. **Final Pipeline (`final_pipeline`)**:\n",
    "   - Combines the preprocessing (`processing`) with a `LinearRegression` model.\n",
    "   - This pipeline can now be used to fit and predict on your data.\n",
    "\n",
    "### Benefits:\n",
    "- **Encapsulation**: All preprocessing and modeling steps are encapsulated in a single object.\n",
    "- **Reproducibility**: The pipeline ensures that the same preprocessing steps are applied during training and prediction.\n",
    "- **Convenience**: You can use `final_pipeline.fit()` and `final_pipeline.predict()` directly, without manually handling preprocessing.\n",
    "\n",
    "This approach is highly modular and can be extended to include additional preprocessing steps or different models as needed.\n",
    "\n",
    "\n"
   ]
  },
  {
   "cell_type": "code",
   "execution_count": 33,
   "id": "cd8ae08a",
   "metadata": {},
   "outputs": [],
   "source": [
    "df_housing_prepared = pd.DataFrame(housing_prepared,columns=processing.get_feature_names_out(),\n",
    "                                    index=df.index)"
   ]
  },
  {
   "cell_type": "code",
   "execution_count": 34,
   "id": "6f16a4bf",
   "metadata": {},
   "outputs": [
    {
     "data": {
      "text/html": [
       "<div>\n",
       "<style scoped>\n",
       "    .dataframe tbody tr th:only-of-type {\n",
       "        vertical-align: middle;\n",
       "    }\n",
       "\n",
       "    .dataframe tbody tr th {\n",
       "        vertical-align: top;\n",
       "    }\n",
       "\n",
       "    .dataframe thead th {\n",
       "        text-align: right;\n",
       "    }\n",
       "</style>\n",
       "<table border=\"1\" class=\"dataframe\">\n",
       "  <thead>\n",
       "    <tr style=\"text-align: right;\">\n",
       "      <th></th>\n",
       "      <th>num__longitude</th>\n",
       "      <th>num__latitude</th>\n",
       "      <th>num__housing_median_age</th>\n",
       "      <th>num__total_rooms</th>\n",
       "      <th>num__total_bedrooms</th>\n",
       "      <th>num__population</th>\n",
       "      <th>num__households</th>\n",
       "      <th>num__median_income</th>\n",
       "      <th>num__median_house_value</th>\n",
       "      <th>cat__ocean_proximity_&lt;1H OCEAN</th>\n",
       "      <th>cat__ocean_proximity_INLAND</th>\n",
       "      <th>cat__ocean_proximity_ISLAND</th>\n",
       "      <th>cat__ocean_proximity_NEAR BAY</th>\n",
       "      <th>cat__ocean_proximity_NEAR OCEAN</th>\n",
       "    </tr>\n",
       "  </thead>\n",
       "  <tbody>\n",
       "    <tr>\n",
       "      <th>0</th>\n",
       "      <td>-1.327835</td>\n",
       "      <td>1.052548</td>\n",
       "      <td>0.982143</td>\n",
       "      <td>-0.804819</td>\n",
       "      <td>-0.972476</td>\n",
       "      <td>-0.974429</td>\n",
       "      <td>-0.977033</td>\n",
       "      <td>2.344766</td>\n",
       "      <td>2.129631</td>\n",
       "      <td>0.0</td>\n",
       "      <td>0.0</td>\n",
       "      <td>0.0</td>\n",
       "      <td>1.0</td>\n",
       "      <td>0.0</td>\n",
       "    </tr>\n",
       "    <tr>\n",
       "      <th>1</th>\n",
       "      <td>-1.322844</td>\n",
       "      <td>1.043185</td>\n",
       "      <td>-0.607019</td>\n",
       "      <td>2.045890</td>\n",
       "      <td>1.357143</td>\n",
       "      <td>0.861439</td>\n",
       "      <td>1.669961</td>\n",
       "      <td>2.332238</td>\n",
       "      <td>1.314156</td>\n",
       "      <td>0.0</td>\n",
       "      <td>0.0</td>\n",
       "      <td>0.0</td>\n",
       "      <td>1.0</td>\n",
       "      <td>0.0</td>\n",
       "    </tr>\n",
       "    <tr>\n",
       "      <th>2</th>\n",
       "      <td>-1.332827</td>\n",
       "      <td>1.038503</td>\n",
       "      <td>1.856182</td>\n",
       "      <td>-0.535746</td>\n",
       "      <td>-0.827024</td>\n",
       "      <td>-0.820777</td>\n",
       "      <td>-0.843637</td>\n",
       "      <td>1.782699</td>\n",
       "      <td>1.258693</td>\n",
       "      <td>0.0</td>\n",
       "      <td>0.0</td>\n",
       "      <td>0.0</td>\n",
       "      <td>1.0</td>\n",
       "      <td>0.0</td>\n",
       "    </tr>\n",
       "    <tr>\n",
       "      <th>3</th>\n",
       "      <td>-1.337818</td>\n",
       "      <td>1.038503</td>\n",
       "      <td>1.856182</td>\n",
       "      <td>-0.624215</td>\n",
       "      <td>-0.719723</td>\n",
       "      <td>-0.766028</td>\n",
       "      <td>-0.733781</td>\n",
       "      <td>0.932968</td>\n",
       "      <td>1.165100</td>\n",
       "      <td>0.0</td>\n",
       "      <td>0.0</td>\n",
       "      <td>0.0</td>\n",
       "      <td>1.0</td>\n",
       "      <td>0.0</td>\n",
       "    </tr>\n",
       "    <tr>\n",
       "      <th>4</th>\n",
       "      <td>-1.337818</td>\n",
       "      <td>1.038503</td>\n",
       "      <td>1.856182</td>\n",
       "      <td>-0.462404</td>\n",
       "      <td>-0.612423</td>\n",
       "      <td>-0.759847</td>\n",
       "      <td>-0.629157</td>\n",
       "      <td>-0.012881</td>\n",
       "      <td>1.172900</td>\n",
       "      <td>0.0</td>\n",
       "      <td>0.0</td>\n",
       "      <td>0.0</td>\n",
       "      <td>1.0</td>\n",
       "      <td>0.0</td>\n",
       "    </tr>\n",
       "  </tbody>\n",
       "</table>\n",
       "</div>"
      ],
      "text/plain": [
       "   num__longitude  num__latitude  num__housing_median_age  num__total_rooms  \\\n",
       "0       -1.327835       1.052548                 0.982143         -0.804819   \n",
       "1       -1.322844       1.043185                -0.607019          2.045890   \n",
       "2       -1.332827       1.038503                 1.856182         -0.535746   \n",
       "3       -1.337818       1.038503                 1.856182         -0.624215   \n",
       "4       -1.337818       1.038503                 1.856182         -0.462404   \n",
       "\n",
       "   num__total_bedrooms  num__population  num__households  num__median_income  \\\n",
       "0            -0.972476        -0.974429        -0.977033            2.344766   \n",
       "1             1.357143         0.861439         1.669961            2.332238   \n",
       "2            -0.827024        -0.820777        -0.843637            1.782699   \n",
       "3            -0.719723        -0.766028        -0.733781            0.932968   \n",
       "4            -0.612423        -0.759847        -0.629157           -0.012881   \n",
       "\n",
       "   num__median_house_value  cat__ocean_proximity_<1H OCEAN  \\\n",
       "0                 2.129631                             0.0   \n",
       "1                 1.314156                             0.0   \n",
       "2                 1.258693                             0.0   \n",
       "3                 1.165100                             0.0   \n",
       "4                 1.172900                             0.0   \n",
       "\n",
       "   cat__ocean_proximity_INLAND  cat__ocean_proximity_ISLAND  \\\n",
       "0                          0.0                          0.0   \n",
       "1                          0.0                          0.0   \n",
       "2                          0.0                          0.0   \n",
       "3                          0.0                          0.0   \n",
       "4                          0.0                          0.0   \n",
       "\n",
       "   cat__ocean_proximity_NEAR BAY  cat__ocean_proximity_NEAR OCEAN  \n",
       "0                            1.0                              0.0  \n",
       "1                            1.0                              0.0  \n",
       "2                            1.0                              0.0  \n",
       "3                            1.0                              0.0  \n",
       "4                            1.0                              0.0  "
      ]
     },
     "execution_count": 34,
     "metadata": {},
     "output_type": "execute_result"
    }
   ],
   "source": [
    "df_housing_prepared.head()"
   ]
  }
 ],
 "metadata": {
  "kernelspec": {
   "display_name": "Python 3 (ipykernel)",
   "language": "python",
   "name": "python3"
  },
  "language_info": {
   "codemirror_mode": {
    "name": "ipython",
    "version": 3
   },
   "file_extension": ".py",
   "mimetype": "text/x-python",
   "name": "python",
   "nbconvert_exporter": "python",
   "pygments_lexer": "ipython3",
   "version": "3.10.9"
  }
 },
 "nbformat": 4,
 "nbformat_minor": 5
}
